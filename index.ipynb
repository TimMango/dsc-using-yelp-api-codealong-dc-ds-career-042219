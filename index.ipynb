{
 "cells": [
  {
   "cell_type": "markdown",
   "metadata": {},
   "source": [
    "# Using the Yelp API - Codealong\n",
    "\n",
    "## Introduction\n",
    "\n",
    "Now that we've discussed HTTP requests and OAuth, it's time to practice applying those skills to a production level API. In this codealong, we'll take you through the process of signing up for an OAuth token and then using that to make requests to the Yelp API!\n",
    "\n",
    "## Objectives\n",
    "\n",
    "You will be able to:\n",
    "\n",
    "* Generate an OAuth token for the yelp API\n",
    "* Make requests using OAuth"
   ]
  },
  {
   "cell_type": "markdown",
   "metadata": {},
   "source": [
    "## Generating Access Tokens\n",
    "\n",
    "As discussed, in order to use many APIs, one needs to use OAuth which requires an access token. As such, our first step will be to generate this login information so that we can start making some requests.  \n",
    "\n",
    "With that, let's go grab an access token from an API site and make some API calls!\n",
    "Point your browser over to this [yelp page](https://www.yelp.com/developers/v3/manage_app) and start creating an app in order to obtain and api access token:\n",
    "\n",
    "![](./images/yelp_app.png)\n",
    "\n",
    "\n",
    "You can either sign in to an existing Yelp account, or create a new one, if needed.\n",
    "\n",
    "On the page you see above, simply fill out some sample information such as \"Flatiron Edu API Example\" for the app name, or whatever floats your boat. Afterwards, you should be presented with an API key that you can use to make requests!\n",
    "\n",
    "With that, it's time to start making some api calls!"
   ]
  },
  {
   "cell_type": "code",
   "execution_count": 1,
   "metadata": {},
   "outputs": [],
   "source": [
    "import requests\n",
    "#As a general rule of thumb, don't store passwords in a main file like this!\n",
    "#Instead, you would normally store those passwords under a sub file like passwords.py which you would then import.\n",
    "#Or even better, as an environment variable that could then be imported!\n",
    "#For now, we'll simply hardcode them into our notebook for simplicity.\n",
    "client_id = 'Ht5oG5bXRjmy0FZZdy1C7g'#Your client ID goes here (as a string)\n",
    "api_key = 'uT_Wagab28yDvhk9K_CguRS6b9RInbnvqDCyGnfky1HAaNsi_VLDJbVknTyYNowJwqHxaImle2VsDEoimk3shd5WvDJPO18wbuTqyMWFONzv45Xu3kuiMEWWkVTcXHYx'#Your api key goes here (as a string)"
   ]
  },
  {
   "cell_type": "markdown",
   "metadata": {},
   "source": [
    "## An Example Request with OAuth <a id=\"oauth_request\"></a>\n",
    "https://www.yelp.com/developers/documentation/v3/get_started\n",
    "\n",
    "In the next lesson, we'll further dissect how to read and translate online documentation like the link here. For now, let's simply look at an example request and dissect it into its constituent parts:"
   ]
  },
  {
   "cell_type": "code",
   "execution_count": 6,
   "metadata": {},
   "outputs": [
    {
     "name": "stdout",
     "output_type": "stream",
     "text": [
      "<Response [200]>\n",
      "<class 'str'>\n",
      "{\"businesses\": [{\"id\": \"jzVv_21473lAMYXIhVbuTA\", \"alias\": \"de-mole-astoria-astoria\", \"name\": \"De Mole Astoria\", \"image_url\": \"https://s3-media1.fl.yelpcdn.com/bphoto/zZTTfdIGbQkQQptgQmin1A/o.jpg\", \"is_closed\": false, \"url\": \"https://www.yelp.com/biz/de-mole-astoria-astoria?adjust_creative=Ht5oG5bXRjmy0FZZdy1C7g&utm_campaign=yelp_api_v3&utm_medium=api_v3_business_search&utm_source=Ht5oG5bXRjmy0FZZdy1C7g\", \"review_count\": 347, \"categories\": [{\"alias\": \"mexican\", \"title\": \"Mexican\"}], \"rating\": 4.0, \"coordinates\": {\"latitude\": 40.7625999, \"longitude\": -73.9129028}, \"transactions\": [\"pickup\", \"delivery\"], \"price\": \"$$\", \"location\": {\"address1\": \"4220 30th Ave\", \"address2\": \"\", \"address3\": \"\", \"city\": \"Astoria\", \"zip_code\": \"11103\", \"country\": \"US\", \"state\": \"NY\", \"display_address\": [\"4220 30th Ave\", \"Astoria, NY 11103\"]}, \"phone\": \"+17187771655\", \"display_phone\": \"(718) 777-1655\", \"distance\": 918.0927716406379}, {\"id\": \"AUyKmFjpaVLwc3awfUnqgQ\", \"alias\": \"chela-and-garnacha-astoria\", \"name\"\n"
     ]
    }
   ],
   "source": [
    "term = 'Mexican'\n",
    "location = 'Astoria NY'\n",
    "SEARCH_LIMIT = 10\n",
    "\n",
    "url = 'https://api.yelp.com/v3/businesses/search'\n",
    "\n",
    "headers = {\n",
    "        'Authorization': 'Bearer {}'.format(api_key),\n",
    "    }\n",
    "\n",
    "url_params = {\n",
    "                'term': term.replace(' ', '+'),\n",
    "                'location': location.replace(' ', '+'),\n",
    "                'limit': SEARCH_LIMIT\n",
    "            }\n",
    "response = requests.get(url, headers=headers, params=url_params)\n",
    "print(response)\n",
    "print(type(response.text))\n",
    "print(response.text[:1000])"
   ]
  },
  {
   "cell_type": "markdown",
   "metadata": {},
   "source": [
    "## Breaking Down the Request\n",
    "\n",
    "As you can see, there are three main parts to our request.  \n",
    "  \n",
    "They are:\n",
    "* The url\n",
    "* The header\n",
    "* The parameters\n",
    "  \n",
    "The url is fairly straightforward and is simply the base url as described in the documentation (again more details in the upcoming lesson).\n",
    "\n",
    "The header is a dictionary of key-value pairs. In this case, we are using a fairly standard header used by many APIs. It has a strict form where 'Authorization' is the key and 'Bearer YourApiKey' is the value.\n",
    "\n",
    "The parameters are the filters which we wish to pass into the query. These will be embedded into the url when the request is made to the api. Similar to the header, they form key-value pairs. Valid key parameters by which to structure your queries, are described in the API documentation which we'll look at further shortly. A final important note however, is the need to replace spaces with \"+\". This is standard to many requests as URLs cannot contain spaces. (Note that the header itself isn't directly embedded into the url itself and as such, the space between 'Bearer' and YourApiKey is valid.)\n"
   ]
  },
  {
   "cell_type": "markdown",
   "metadata": {},
   "source": [
    "## The Response\n",
    "\n",
    "As before, our response object has both a status code, as well as the data itself. With that, let's start with a little data exploration!"
   ]
  },
  {
   "cell_type": "code",
   "execution_count": 7,
   "metadata": {},
   "outputs": [
    {
     "data": {
      "text/plain": [
       "dict_keys(['businesses', 'total', 'region'])"
      ]
     },
     "execution_count": 7,
     "metadata": {},
     "output_type": "execute_result"
    }
   ],
   "source": [
    "response.json().keys()"
   ]
  },
  {
   "cell_type": "markdown",
   "metadata": {},
   "source": [
    "Now let's go a bit further and start to preview what's stored in each of the values for these keys."
   ]
  },
  {
   "cell_type": "code",
   "execution_count": 8,
   "metadata": {},
   "outputs": [
    {
     "name": "stdout",
     "output_type": "stream",
     "text": [
      "businesses\n",
      "<class 'list'>\n",
      "\n",
      "\n",
      "\n",
      "total\n",
      "<class 'int'>\n",
      "\n",
      "\n",
      "\n",
      "region\n",
      "<class 'dict'>\n",
      "\n",
      "\n",
      "\n"
     ]
    }
   ],
   "source": [
    "for key in response.json().keys():\n",
    "    print(key)\n",
    "    value = response.json()[key] #Use standard dictionary formatting\n",
    "    print(type(value)) #What type is it?\n",
    "    print('\\n\\n') #Separate out data"
   ]
  },
  {
   "cell_type": "markdown",
   "metadata": {},
   "source": [
    "Let's continue to preview these further to get a little better acquainted."
   ]
  },
  {
   "cell_type": "code",
   "execution_count": 9,
   "metadata": {},
   "outputs": [
    {
     "data": {
      "text/plain": [
       "[{'id': 'jzVv_21473lAMYXIhVbuTA',\n",
       "  'alias': 'de-mole-astoria-astoria',\n",
       "  'name': 'De Mole Astoria',\n",
       "  'image_url': 'https://s3-media1.fl.yelpcdn.com/bphoto/zZTTfdIGbQkQQptgQmin1A/o.jpg',\n",
       "  'is_closed': False,\n",
       "  'url': 'https://www.yelp.com/biz/de-mole-astoria-astoria?adjust_creative=Ht5oG5bXRjmy0FZZdy1C7g&utm_campaign=yelp_api_v3&utm_medium=api_v3_business_search&utm_source=Ht5oG5bXRjmy0FZZdy1C7g',\n",
       "  'review_count': 347,\n",
       "  'categories': [{'alias': 'mexican', 'title': 'Mexican'}],\n",
       "  'rating': 4.0,\n",
       "  'coordinates': {'latitude': 40.7625999, 'longitude': -73.9129028},\n",
       "  'transactions': ['pickup', 'delivery'],\n",
       "  'price': '$$',\n",
       "  'location': {'address1': '4220 30th Ave',\n",
       "   'address2': '',\n",
       "   'address3': '',\n",
       "   'city': 'Astoria',\n",
       "   'zip_code': '11103',\n",
       "   'country': 'US',\n",
       "   'state': 'NY',\n",
       "   'display_address': ['4220 30th Ave', 'Astoria, NY 11103']},\n",
       "  'phone': '+17187771655',\n",
       "  'display_phone': '(718) 777-1655',\n",
       "  'distance': 918.0927716406379},\n",
       " {'id': 'AUyKmFjpaVLwc3awfUnqgQ',\n",
       "  'alias': 'chela-and-garnacha-astoria',\n",
       "  'name': 'Chela & Garnacha',\n",
       "  'image_url': 'https://s3-media1.fl.yelpcdn.com/bphoto/ChVbA1_xqLHFXL4Iyh84NA/o.jpg',\n",
       "  'is_closed': False,\n",
       "  'url': 'https://www.yelp.com/biz/chela-and-garnacha-astoria?adjust_creative=Ht5oG5bXRjmy0FZZdy1C7g&utm_campaign=yelp_api_v3&utm_medium=api_v3_business_search&utm_source=Ht5oG5bXRjmy0FZZdy1C7g',\n",
       "  'review_count': 338,\n",
       "  'categories': [{'alias': 'mexican', 'title': 'Mexican'},\n",
       "   {'alias': 'wine_bars', 'title': 'Wine Bars'},\n",
       "   {'alias': 'breakfast_brunch', 'title': 'Breakfast & Brunch'}],\n",
       "  'rating': 4.5,\n",
       "  'coordinates': {'latitude': 40.7557171543477, 'longitude': -73.927811292412},\n",
       "  'transactions': ['pickup', 'delivery'],\n",
       "  'price': '$$',\n",
       "  'location': {'address1': '33-09 36th Ave',\n",
       "   'address2': '',\n",
       "   'address3': '',\n",
       "   'city': 'Astoria',\n",
       "   'zip_code': '11106',\n",
       "   'country': 'US',\n",
       "   'state': 'NY',\n",
       "   'display_address': ['33-09 36th Ave', 'Astoria, NY 11106']},\n",
       "  'phone': '+19178326876',\n",
       "  'display_phone': '(917) 832-6876',\n",
       "  'distance': 1318.3265473785546}]"
      ]
     },
     "execution_count": 9,
     "metadata": {},
     "output_type": "execute_result"
    }
   ],
   "source": [
    "response.json()['businesses'][:2]"
   ]
  },
  {
   "cell_type": "code",
   "execution_count": 10,
   "metadata": {},
   "outputs": [
    {
     "data": {
      "text/plain": [
       "680"
      ]
     },
     "execution_count": 10,
     "metadata": {},
     "output_type": "execute_result"
    }
   ],
   "source": [
    "response.json()['total']"
   ]
  },
  {
   "cell_type": "code",
   "execution_count": 11,
   "metadata": {},
   "outputs": [
    {
     "data": {
      "text/plain": [
       "{'center': {'longitude': -73.92219543457031, 'latitude': 40.76688875374591}}"
      ]
     },
     "execution_count": 11,
     "metadata": {},
     "output_type": "execute_result"
    }
   ],
   "source": [
    "response.json()['region']"
   ]
  },
  {
   "cell_type": "markdown",
   "metadata": {},
   "source": [
    "As you can see, we're primarily interested in the 'businesses' entry. \n",
    "\n",
    "Let's go ahead and create a dataframe from that."
   ]
  },
  {
   "cell_type": "code",
   "execution_count": null,
   "metadata": {},
   "outputs": [],
   "source": [
    "import pandas as pd\n",
    "\n",
    "df = pd.DataFrame.from_dict(response.json()['businesses'])\n",
    "print(len(df)) #Print how many rows\n",
    "print(df.columns) #Print column names\n",
    "df.head() #Previews the first five rows. \n",
    "#You could also write df.head(10) to preview 10 rows or df.tail() to see the bottom"
   ]
  },
  {
   "cell_type": "markdown",
   "metadata": {},
   "source": [
    "## Summary <a id=\"sum\"></a>\n",
    "\n",
    "Congratulations! We've covered a lot here! We took some of your previous knowledge with HTTP requests and OAuth in order to leverage an enterprise API! Then we made some requests to retrieve information that came back as a json format. We then transformed this data into a dataframe using the Pandas package. In the next lab, we'll break down how to read API documentation and then put it all together to make a nifty map!"
   ]
  }
 ],
 "metadata": {
  "kernelspec": {
   "display_name": "Python 3",
   "language": "python",
   "name": "python3"
  },
  "language_info": {
   "codemirror_mode": {
    "name": "ipython",
    "version": 3
   },
   "file_extension": ".py",
   "mimetype": "text/x-python",
   "name": "python",
   "nbconvert_exporter": "python",
   "pygments_lexer": "ipython3",
   "version": "3.6.6"
  }
 },
 "nbformat": 4,
 "nbformat_minor": 2
}
